{
 "cells": [
  {
   "cell_type": "markdown",
   "id": "68df3967",
   "metadata": {},
   "source": [
    "# Machine Learning"
   ]
  },
  {
   "cell_type": "markdown",
   "id": "09517e11",
   "metadata": {},
   "source": [
    "## Queue"
   ]
  },
  {
   "cell_type": "code",
   "execution_count": null,
   "id": "d554f86d",
   "metadata": {},
   "outputs": [],
   "source": [
    "class Queue:\n",
    "    def __init__(self):\n",
    "        self.q:list = []\n",
    "        self.len:int = 0\n",
    "    \n",
    "    def put(self, val):\n",
    "        if self.len < 0:\n",
    "            print(\"Please use a positive integer!\")\n",
    "        elif self.len == 0:\n",
    "            self.q.append(val)\n",
    "        elif len(self.q) >= self.len:\n",
    "            print(\"Queue is full!\")\n",
    "        else:\n",
    "            self.q.append(val)\n",
    "\n",
    "    def get(self):\n",
    "        if not self.q:\n",
    "            print(\"Queue is empty!\")\n",
    "        else:\n",
    "            return self.q[0]\n",
    "    \n",
    "    def rm(self):\n",
    "        if not self.q:\n",
    "            print(\"Queue is empty!\")\n",
    "        else:\n",
    "            return self.q.pop(0)\n",
    "    \n",
    "    def max_size(self, len:int):\n",
    "        self.len = len\n",
    "    \n",
    "    def size(self):\n",
    "        return len(self.q)"
   ]
  },
  {
   "cell_type": "markdown",
   "id": "b9f216df",
   "metadata": {},
   "source": [
    "## Stack"
   ]
  },
  {
   "cell_type": "code",
   "execution_count": null,
   "id": "5a588cda",
   "metadata": {},
   "outputs": [],
   "source": [
    "class Stack:\n",
    "    def __init__(self):\n",
    "        self.s:list = []\n",
    "        self.len:int = 0\n",
    "    \n",
    "    def put(self, val):\n",
    "        if self.len < 0:\n",
    "            print(\"Please use a positive integer!\")\n",
    "        elif self.len == 0:\n",
    "            self.s.append(val)\n",
    "        elif len(self.s) >= self.len:\n",
    "            print(\"Stack is full!\")\n",
    "        else:\n",
    "            self.s.append(val)\n",
    "    \n",
    "    def get(self):\n",
    "        if not self.s:\n",
    "            print(\"Queue is empty!\")\n",
    "        else:\n",
    "            return self.q[len(self.s)-1]  \n",
    "    \n",
    "    def rm(self):\n",
    "        if not self.s:\n",
    "            print(\"Stack is empty!\")\n",
    "        else:\n",
    "            return self.s.pop(len(self.s)-1)\n",
    "    \n",
    "    def max_size(self, len:int):\n",
    "        self.len = len\n",
    "    \n",
    "    def size(self):\n",
    "        return len(self.s)"
   ]
  },
  {
   "cell_type": "markdown",
   "id": "d306af9e",
   "metadata": {},
   "source": [
    "## Bubble Sort"
   ]
  },
  {
   "cell_type": "code",
   "execution_count": null,
   "id": "3964a78f",
   "metadata": {},
   "outputs": [],
   "source": [
    "def bubble_sort(l):\n",
    "    for i in range(len(l)):\n",
    "        for j in range(len(l)-1):\n",
    "            if l[j] > l[j+1]:\n",
    "                l[j], l[j+1] = l[j+1], l[j]\n",
    "    return l"
   ]
  }
 ],
 "metadata": {
  "kernelspec": {
   "display_name": "machine-learning (3.13.7)",
   "language": "python",
   "name": "python3"
  },
  "language_info": {
   "codemirror_mode": {
    "name": "ipython",
    "version": 3
   },
   "file_extension": ".py",
   "mimetype": "text/x-python",
   "name": "python",
   "nbconvert_exporter": "python",
   "pygments_lexer": "ipython3",
   "version": "3.13.7"
  }
 },
 "nbformat": 4,
 "nbformat_minor": 5
}
