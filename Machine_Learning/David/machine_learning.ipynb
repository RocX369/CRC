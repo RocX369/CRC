{
 "cells": [
  {
   "cell_type": "markdown",
   "id": "68df3967",
   "metadata": {},
   "source": [
    "# Machine Learning"
   ]
  },
  {
   "cell_type": "markdown",
   "id": "09517e11",
   "metadata": {},
   "source": [
    "## Queue"
   ]
  },
  {
   "cell_type": "code",
   "execution_count": 18,
   "id": "d554f86d",
   "metadata": {},
   "outputs": [],
   "source": [
    "class Queue:\n",
    "    def __init__(self):\n",
    "        self.q:list = []\n",
    "        self.len:int\n",
    "\n",
    "    def put(self, val:int):\n",
    "        if len(self.q) >= self.len:\n",
    "            print(\"Queue is full!\")\n",
    "        else:\n",
    "            return self.q.append(val)\n",
    "    \n",
    "    def get(self):\n",
    "        if not self.q:\n",
    "            return None\n",
    "        else:\n",
    "            return self.q.pop(0)\n",
    "    \n",
    "    def max_size(self, len:int):\n",
    "        self.len = len\n",
    "        return self.len\n",
    "    \n",
    "    def size(self):\n",
    "        len(self.q)"
   ]
  },
  {
   "cell_type": "markdown",
   "id": "b9f216df",
   "metadata": {},
   "source": [
    "## Stack"
   ]
  },
  {
   "cell_type": "code",
   "execution_count": 19,
   "id": "5a588cda",
   "metadata": {},
   "outputs": [],
   "source": [
    "class Stack:\n",
    "    def __init__(self):\n",
    "        self.s:list = []\n",
    "        self.len:int\n",
    "    \n",
    "    def put(self, val:int):\n",
    "        if len(self.s) >= self.len:\n",
    "            print(\"Stack is full!\")\n",
    "        else:\n",
    "            return self.s.append(val)\n",
    "    \n",
    "    def get(self):\n",
    "        if not self.s:\n",
    "            return None\n",
    "        else:\n",
    "            return self.s.pop(len(self.s)-1)\n",
    "    \n",
    "    def max_size(self, len:int):\n",
    "        self.len = len\n",
    "        return self.len\n",
    "    \n",
    "    def size(self):\n",
    "        len(self.s)"
   ]
  }
 ],
 "metadata": {
  "kernelspec": {
   "display_name": "machine-learning (3.13.7)",
   "language": "python",
   "name": "python3"
  },
  "language_info": {
   "codemirror_mode": {
    "name": "ipython",
    "version": 3
   },
   "file_extension": ".py",
   "mimetype": "text/x-python",
   "name": "python",
   "nbconvert_exporter": "python",
   "pygments_lexer": "ipython3",
   "version": "3.13.7"
  }
 },
 "nbformat": 4,
 "nbformat_minor": 5
}
